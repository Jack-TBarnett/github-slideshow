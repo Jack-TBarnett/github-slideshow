{
  "nbformat": 4,
  "nbformat_minor": 0,
  "metadata": {
    "colab": {
      "name": "Untitled1.ipynb",
      "provenance": [],
      "authorship_tag": "ABX9TyPRCcE7cC/sMusgs17t5ArO",
      "include_colab_link": true
    },
    "kernelspec": {
      "name": "python3",
      "display_name": "Python 3"
    }
  },
  "cells": [
    {
      "cell_type": "markdown",
      "metadata": {
        "id": "view-in-github",
        "colab_type": "text"
      },
      "source": [
        "<a href=\"https://colab.research.google.com/github/jzzy-jeff/github-slideshow/blob/master/tensor_quickie.ipynb\" target=\"_parent\"><img src=\"https://colab.research.google.com/assets/colab-badge.svg\" alt=\"Open In Colab\"/></a>"
      ]
    },
    {
      "cell_type": "code",
      "metadata": {
        "id": "w1ejoE1rpA4l"
      },
      "source": [
        "import tensorflow as tf\r\n"
      ],
      "execution_count": 1,
      "outputs": []
    },
    {
      "cell_type": "code",
      "metadata": {
        "colab": {
          "base_uri": "https://localhost:8080/"
        },
        "id": "znVggudRvX9r",
        "outputId": "78a2c33c-4ca8-4fdc-fdba-42a3da17fe48"
      },
      "source": [
        "mnist = tf.keras.datasets.mnist\r\n",
        "(x_train, y_train), (x_test, y_test) = mnist. load_data()\r\n",
        "x_train, x_test = x_train / 255.0, x_test / 255.0"
      ],
      "execution_count": 2,
      "outputs": [
        {
          "output_type": "stream",
          "text": [
            "Downloading data from https://storage.googleapis.com/tensorflow/tf-keras-datasets/mnist.npz\n",
            "11493376/11490434 [==============================] - 0s 0us/step\n"
          ],
          "name": "stdout"
        }
      ]
    },
    {
      "cell_type": "code",
      "metadata": {
        "id": "vWIB4FQhv6a5"
      },
      "source": [
        "model = tf.keras.models.Sequential([\r\n",
        "  tf.keras.layers.Flatten(input_shape=(28, 28)),\r\n",
        "  tf.keras.layers.Dense(128, activation='relu'),\r\n",
        "  tf.keras.layers.Dropout(0.2),\r\n",
        "  tf.keras.layers.Dense(10)\r\n",
        "])"
      ],
      "execution_count": 4,
      "outputs": []
    },
    {
      "cell_type": "code",
      "metadata": {
        "colab": {
          "base_uri": "https://localhost:8080/"
        },
        "id": "wokue7V4xzz9",
        "outputId": "2b516739-681b-4ffe-b124-c5adb19e6dd6"
      },
      "source": [
        "predictions = model(x_train[:1]).numpy()\r\n",
        "predictions"
      ],
      "execution_count": 5,
      "outputs": [
        {
          "output_type": "execute_result",
          "data": {
            "text/plain": [
              "array([[-0.4903872 , -0.2179988 ,  0.16803873,  0.59400105, -0.01106219,\n",
              "         0.08941436, -0.14831011,  0.28040928, -0.06108239, -0.5310488 ]],\n",
              "      dtype=float32)"
            ]
          },
          "metadata": {
            "tags": []
          },
          "execution_count": 5
        }
      ]
    },
    {
      "cell_type": "code",
      "metadata": {
        "colab": {
          "base_uri": "https://localhost:8080/"
        },
        "id": "4NNDefJOzK2C",
        "outputId": "7c7b2526-40ef-4d16-9900-51d758fa43c5"
      },
      "source": [
        "tf.nn.softmax(predictions).numpy()"
      ],
      "execution_count": 6,
      "outputs": [
        {
          "output_type": "execute_result",
          "data": {
            "text/plain": [
              "array([[0.05999217, 0.07877553, 0.11588982, 0.17743462, 0.09688638,\n",
              "        0.10712705, 0.0844611 , 0.12967229, 0.09215932, 0.05760172]],\n",
              "      dtype=float32)"
            ]
          },
          "metadata": {
            "tags": []
          },
          "execution_count": 6
        }
      ]
    },
    {
      "cell_type": "code",
      "metadata": {
        "id": "YJbjcxgozTYC"
      },
      "source": [
        "loss_fn = tf.keras.losses.SparseCategoricalCrossentropy(from_logits=True)"
      ],
      "execution_count": 8,
      "outputs": []
    },
    {
      "cell_type": "code",
      "metadata": {
        "colab": {
          "base_uri": "https://localhost:8080/"
        },
        "id": "3UfEKkNRzuP6",
        "outputId": "54309c4b-7d45-4622-e02d-6045306b613e"
      },
      "source": [
        "loss_fn(y_train[:1], predictions).numpy()"
      ],
      "execution_count": 9,
      "outputs": [
        {
          "output_type": "execute_result",
          "data": {
            "text/plain": [
              "2.2337399"
            ]
          },
          "metadata": {
            "tags": []
          },
          "execution_count": 9
        }
      ]
    },
    {
      "cell_type": "code",
      "metadata": {
        "id": "opaSOj280DPK"
      },
      "source": [
        "model.compile(optimizer='adam',\r\n",
        "              loss=loss_fn,\r\n",
        "              metrics=['accuracy'])"
      ],
      "execution_count": 10,
      "outputs": []
    },
    {
      "cell_type": "code",
      "metadata": {
        "colab": {
          "base_uri": "https://localhost:8080/"
        },
        "id": "ZtyCNhLb0jTD",
        "outputId": "75c9b669-9e5f-4ebe-a11d-44aa72c5c33b"
      },
      "source": [
        "model.fit(x_train, y_train, epochs=5)"
      ],
      "execution_count": 11,
      "outputs": [
        {
          "output_type": "stream",
          "text": [
            "Epoch 1/5\n",
            "1875/1875 [==============================] - 4s 2ms/step - loss: 0.4927 - accuracy: 0.8555\n",
            "Epoch 2/5\n",
            "1875/1875 [==============================] - 3s 2ms/step - loss: 0.1526 - accuracy: 0.9549\n",
            "Epoch 3/5\n",
            "1875/1875 [==============================] - 3s 2ms/step - loss: 0.1110 - accuracy: 0.9667\n",
            "Epoch 4/5\n",
            "1875/1875 [==============================] - 3s 2ms/step - loss: 0.0861 - accuracy: 0.9725\n",
            "Epoch 5/5\n",
            "1875/1875 [==============================] - 3s 2ms/step - loss: 0.0761 - accuracy: 0.9756\n"
          ],
          "name": "stdout"
        },
        {
          "output_type": "execute_result",
          "data": {
            "text/plain": [
              "<tensorflow.python.keras.callbacks.History at 0x7f79b69fd668>"
            ]
          },
          "metadata": {
            "tags": []
          },
          "execution_count": 11
        }
      ]
    },
    {
      "cell_type": "code",
      "metadata": {
        "colab": {
          "base_uri": "https://localhost:8080/"
        },
        "id": "g-mnM6di05WK",
        "outputId": "bb70ee2d-8f83-425c-c5b6-5cb1e4eb53df"
      },
      "source": [
        "model.evaluate(x_test, y_test, verbose=2)"
      ],
      "execution_count": 12,
      "outputs": [
        {
          "output_type": "stream",
          "text": [
            "313/313 - 0s - loss: 0.0782 - accuracy: 0.9743\n"
          ],
          "name": "stdout"
        },
        {
          "output_type": "execute_result",
          "data": {
            "text/plain": [
              "[0.07815766334533691, 0.9743000268936157]"
            ]
          },
          "metadata": {
            "tags": []
          },
          "execution_count": 12
        }
      ]
    },
    {
      "cell_type": "code",
      "metadata": {
        "id": "yXsjaZed1RiK"
      },
      "source": [
        "probability_model = tf.keras.Sequential([\r\n",
        "  model,\r\n",
        "  tf.keras.layers.Softmax()\r\n",
        "])"
      ],
      "execution_count": 15,
      "outputs": []
    },
    {
      "cell_type": "code",
      "metadata": {
        "colab": {
          "base_uri": "https://localhost:8080/"
        },
        "id": "MhcNHA8x1mkD",
        "outputId": "f414f467-c144-4d93-e7d8-0825b1855f23"
      },
      "source": [
        "probability_model(x_test[:5])"
      ],
      "execution_count": 16,
      "outputs": [
        {
          "output_type": "execute_result",
          "data": {
            "text/plain": [
              "<tf.Tensor: shape=(5, 10), dtype=float32, numpy=\n",
              "array([[3.15956719e-08, 4.56917881e-08, 3.30229450e-05, 1.55665458e-03,\n",
              "        1.76691817e-09, 7.83179712e-06, 1.10270998e-13, 9.98382807e-01,\n",
              "        1.02278354e-05, 9.36245306e-06],\n",
              "       [5.92781796e-11, 8.37790481e-07, 9.99994874e-01, 1.12292162e-06,\n",
              "        2.85515412e-20, 3.16731735e-06, 4.53285720e-09, 3.07773466e-15,\n",
              "        2.24604761e-08, 8.84180636e-16],\n",
              "       [2.66503179e-07, 9.99521017e-01, 2.85291626e-05, 4.17070987e-05,\n",
              "        9.95266691e-06, 8.30124827e-06, 1.19897168e-05, 3.32269614e-04,\n",
              "        4.47791208e-05, 1.07391259e-06],\n",
              "       [9.99835372e-01, 3.27437438e-10, 1.48336068e-04, 6.23028829e-09,\n",
              "        7.85583865e-09, 6.45025864e-07, 1.07899859e-05, 4.66261190e-06,\n",
              "        2.05784598e-08, 7.03060508e-08],\n",
              "       [1.29189884e-05, 1.29762812e-09, 7.66510220e-06, 6.05655316e-07,\n",
              "        9.95910168e-01, 3.70054750e-06, 1.51728655e-05, 8.41437868e-05,\n",
              "        1.42964846e-05, 3.95138236e-03]], dtype=float32)>"
            ]
          },
          "metadata": {
            "tags": []
          },
          "execution_count": 16
        }
      ]
    }
  ]
}