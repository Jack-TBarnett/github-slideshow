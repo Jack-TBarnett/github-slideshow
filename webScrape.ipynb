{
  "nbformat": 4,
  "nbformat_minor": 0,
  "metadata": {
    "colab": {
      "name": " webScrape.ipynb",
      "provenance": [],
      "collapsed_sections": [],
      "authorship_tag": "ABX9TyOIXsRkfTjFSuLeXF1mddbp",
      "include_colab_link": true
    },
    "kernelspec": {
      "name": "python3",
      "display_name": "Python 3"
    }
  },
  "cells": [
    {
      "cell_type": "markdown",
      "metadata": {
        "id": "view-in-github",
        "colab_type": "text"
      },
      "source": [
        "<a href=\"https://colab.research.google.com/github/jzzy-jeff/github-slideshow/blob/master/webScrape.ipynb\" target=\"_parent\"><img src=\"https://colab.research.google.com/assets/colab-badge.svg\" alt=\"Open In Colab\"/></a>"
      ]
    },
    {
      "cell_type": "code",
      "metadata": {
        "id": "Fi7xVhB6gBEy"
      },
      "source": [
        "from urllib.request import urlopen as uReq\r\n",
        "from bs4 import BeautifulSoup as soup"
      ],
      "execution_count": 18,
      "outputs": []
    },
    {
      "cell_type": "code",
      "metadata": {
        "id": "zLSdaErSgD6Z"
      },
      "source": [
        "#Variable to whatcha want.\r\n",
        "my_url = \"https://www.fool.com/investing/top-stocks-to-buy/\""
      ],
      "execution_count": 5,
      "outputs": []
    },
    {
      "cell_type": "code",
      "metadata": {
        "id": "9WljMZkJgJtZ"
      },
      "source": [
        "#Open chakras\r\n",
        "uClient = uReq(my_url)\r\n"
      ],
      "execution_count": 6,
      "outputs": []
    },
    {
      "cell_type": "code",
      "metadata": {
        "id": "C9T8SZiUgRMB"
      },
      "source": [
        "#Grab the shtuff\r\n",
        "page_html = uClient.read()\r\n",
        "uClient.close()\r\n",
        "\r\n",
        "#html parser\r\n",
        "page_soup = soup(page_html, \"html.parser\")"
      ],
      "execution_count": 7,
      "outputs": []
    },
    {
      "cell_type": "code",
      "metadata": {
        "colab": {
          "base_uri": "https://localhost:8080/"
        },
        "id": "RTH4wlJVgx2R",
        "outputId": "f0dfd8f5-fac0-42d7-e421-c94d556d8495"
      },
      "source": [
        "#just looking around\r\n",
        "page_soup.h1"
      ],
      "execution_count": 8,
      "outputs": [
        {
          "output_type": "execute_result",
          "data": {
            "text/plain": [
              "<h1>The Top 21 Stocks to Buy in 2021 (And the 1 Ultimate Stock)</h1>"
            ]
          },
          "metadata": {
            "tags": []
          },
          "execution_count": 8
        }
      ]
    },
    {
      "cell_type": "code",
      "metadata": {
        "colab": {
          "base_uri": "https://localhost:8080/"
        },
        "id": "XWe8lUc_hpD4",
        "outputId": "ea90153a-7239-44e1-82f3-11b5dd622c56"
      },
      "source": [
        "#are you accusing me of stealing?\r\n",
        "page_soup.ol"
      ],
      "execution_count": 9,
      "outputs": [
        {
          "output_type": "execute_result",
          "data": {
            "text/plain": [
              "<ol>\n",
              "<li>Choosing the best stocks to buy today depends heavily on your personal financial situation. To get a feel for where you stand, read our <a href=\"https://www.fool.com/how-to-invest/stocks.aspx\">How to Invest guide</a>. It walks you through topics like establishing an emergency fund, allocating assets, and when it makes sense to buy stocks.</li>\n",
              "<li>While I ensured some variety, the list below isn't meant to be a fully diversified portfolio. Instead, they're my highest-conviction stocks to outperform in 2021 and beyond. The best one-step way to diversify your holdings is to build the core of your portfolio around something like the <strong>Vanguard Total World Stock Index Fund ETF</strong> <span class=\"ticker\" data-id=\"222532\">(<a href=\"https://www.fool.com/quote/nysemkt/vanguard-international-equity-index-funds-vanguard-total-world-stock-etf/vt/\">NYSEMKT:VT</a>)</span>. That's the ultimate \"stock\" if you're going to buy just one investment and don't want to mess with picking among individual stocks. You can just set it and forget it, knowing that you've got literally thousands of stocks from around the world working for you.</li>\n",
              "</ol>"
            ]
          },
          "metadata": {
            "tags": []
          },
          "execution_count": 9
        }
      ]
    },
    {
      "cell_type": "code",
      "metadata": {
        "id": "Ij0mkKCUj6UZ"
      },
      "source": [
        "#grabs each thingymerjig\r\n",
        "containers = page_soup.findAll(\"div\", {\"class\":\"ticker-row\"})"
      ],
      "execution_count": 10,
      "outputs": []
    },
    {
      "cell_type": "code",
      "metadata": {
        "colab": {
          "base_uri": "https://localhost:8080/"
        },
        "id": "u6MBQuB7kU9p",
        "outputId": "6bca036a-c207-441d-ca6b-21415c74d15d"
      },
      "source": [
        "#LOOK AT IT!\r\n",
        "len(containers)"
      ],
      "execution_count": 11,
      "outputs": [
        {
          "output_type": "execute_result",
          "data": {
            "text/plain": [
              "36"
            ]
          },
          "metadata": {
            "tags": []
          },
          "execution_count": 11
        }
      ]
    },
    {
      "cell_type": "code",
      "metadata": {
        "id": "MGgkOhlAkbOJ",
        "colab": {
          "base_uri": "https://localhost:8080/"
        },
        "outputId": "4daa04a7-a87c-4958-84a6-b6e2fbfbb4bc"
      },
      "source": [
        "containers[0]"
      ],
      "execution_count": 12,
      "outputs": [
        {
          "output_type": "execute_result",
          "data": {
            "text/plain": [
              "<div class=\"ticker-row\" data-instrument-id=\"202816\">\n",
              "<span class=\"image-wrap\">\n",
              "<a class=\"quote-image\" href=\"https://www.fool.com/quote/nasdaq/amazoncom-inc/amzn/\">\n",
              "<h5>AMZN</h5>\n",
              "<img alt=\"Amazon.com, Inc. Stock Quote\" data-img-src=\"https://g.foolcdn.com/image/?url=https%3A%2F%2Fg.foolcdn.com%2Fart%2Fcompanylogos%2Fmark%2FAMZN.png&amp;w=64&amp;h=64&amp;op=resize\" src=\"\">\n",
              "</img></a>\n",
              "</span>\n",
              "<div class=\"ticker-text-wrap\">\n",
              "<h3>Amazon.com, Inc.</h3>\n",
              "<h4 class=\"h-margin-b\">\n",
              "<span class=\"ticker\">\n",
              "<a href=\"https://www.fool.com/quote/nasdaq/amazoncom-inc/amzn/\" title=\"Amazon.com, Inc. Stock Quote\">\n",
              "                    NASDAQ:<span class=\"symbol\">AMZN</span>\n",
              "</a>\n",
              "</span>\n",
              "</h4>\n",
              "<aside class=\"price-quote-container smaller\">\n",
              "<h4 class=\"current-price\">\n",
              "                  $3,104.25\n",
              "              </h4>\n",
              "<h4 class=\"price-change-arrow price-neg\">\n",
              "<span style=\"position:absolute;left:-999em;\">down</span>\n",
              "<i class=\"fool-icon-arrow-down\"></i>\n",
              "</h4>\n",
              "<h4 class=\"price-change-amount price-neg\">\n",
              "                  $-23.22\n",
              "              </h4>\n",
              "<h4 class=\"price-change-percent price-neg\">\n",
              "                  (-0.74%)\n",
              "              </h4>\n",
              "</aside>\n",
              "</div>\n",
              "</div>"
            ]
          },
          "metadata": {
            "tags": []
          },
          "execution_count": 12
        }
      ]
    },
    {
      "cell_type": "code",
      "metadata": {
        "id": "guTShUukmB0o",
        "colab": {
          "base_uri": "https://localhost:8080/"
        },
        "outputId": "656082ef-2ab2-43be-a9e8-d3f6dc1ef4f1"
      },
      "source": [
        "#inside my box? *chuckle* another box.\r\n",
        "contain = containers[0]\r\n",
        "container = containers[0]\r\n",
        "container.div"
      ],
      "execution_count": 13,
      "outputs": [
        {
          "output_type": "execute_result",
          "data": {
            "text/plain": [
              "<div class=\"ticker-text-wrap\">\n",
              "<h3>Amazon.com, Inc.</h3>\n",
              "<h4 class=\"h-margin-b\">\n",
              "<span class=\"ticker\">\n",
              "<a href=\"https://www.fool.com/quote/nasdaq/amazoncom-inc/amzn/\" title=\"Amazon.com, Inc. Stock Quote\">\n",
              "                    NASDAQ:<span class=\"symbol\">AMZN</span>\n",
              "</a>\n",
              "</span>\n",
              "</h4>\n",
              "<aside class=\"price-quote-container smaller\">\n",
              "<h4 class=\"current-price\">\n",
              "                  $3,104.25\n",
              "              </h4>\n",
              "<h4 class=\"price-change-arrow price-neg\">\n",
              "<span style=\"position:absolute;left:-999em;\">down</span>\n",
              "<i class=\"fool-icon-arrow-down\"></i>\n",
              "</h4>\n",
              "<h4 class=\"price-change-amount price-neg\">\n",
              "                  $-23.22\n",
              "              </h4>\n",
              "<h4 class=\"price-change-percent price-neg\">\n",
              "                  (-0.74%)\n",
              "              </h4>\n",
              "</aside>\n",
              "</div>"
            ]
          },
          "metadata": {
            "tags": []
          },
          "execution_count": 13
        }
      ]
    },
    {
      "cell_type": "code",
      "metadata": {
        "id": "4XxqE5NVpAmh"
      },
      "source": [
        "for container in containers:\r\n",
        "  brand = container.div.h3\r\n",
        "  nums = container.div.h4\r\n",
        "\r\n",
        "\r\n",
        "  print(brand)\r\n",
        "  print(nums)\r\n",
        "  "
      ],
      "execution_count": null,
      "outputs": []
    },
    {
      "cell_type": "code",
      "metadata": {
        "id": "40wzm9iwzwyg"
      },
      "source": [
        "import plotly.graph_objects as go\r\n"
      ],
      "execution_count": 20,
      "outputs": []
    },
    {
      "cell_type": "code",
      "metadata": {
        "id": "2CgP1ALA34Ng"
      },
      "source": [
        "#make it presentable \r\n",
        "import plotly.figure_factory as ff"
      ],
      "execution_count": 22,
      "outputs": []
    },
    {
      "cell_type": "code",
      "metadata": {
        "colab": {
          "base_uri": "https://localhost:8080/",
          "height": 131
        },
        "id": "ffOj4S406QIH",
        "outputId": "5f11415f-5163-4278-abb2-860809c41d0c"
      },
      "source": [
        "data_matrix = [brand, nums],\r\n",
        "    fig = ff.create_table(data_matrix)\r\n",
        "fig.show()         "
      ],
      "execution_count": 23,
      "outputs": [
        {
          "output_type": "error",
          "ename": "IndentationError",
          "evalue": "ignored",
          "traceback": [
            "\u001b[0;36m  File \u001b[0;32m\"<ipython-input-23-d3dc1f08e2ca>\"\u001b[0;36m, line \u001b[0;32m2\u001b[0m\n\u001b[0;31m    fig = ff.create_table(data_matrix)\u001b[0m\n\u001b[0m    ^\u001b[0m\n\u001b[0;31mIndentationError\u001b[0m\u001b[0;31m:\u001b[0m unexpected indent\n"
          ]
        }
      ]
    }
  ]
}