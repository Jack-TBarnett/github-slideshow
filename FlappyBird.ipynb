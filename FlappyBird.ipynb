{
  "nbformat": 4,
  "nbformat_minor": 0,
  "metadata": {
    "colab": {
      "name": "Untitled0.ipynb",
      "provenance": [],
      "authorship_tag": "ABX9TyOqwm2MSpHciIxtFntsEM91",
      "include_colab_link": true
    },
    "kernelspec": {
      "name": "python3",
      "display_name": "Python 3"
    }
  },
  "cells": [
    {
      "cell_type": "markdown",
      "metadata": {
        "id": "view-in-github",
        "colab_type": "text"
      },
      "source": [
        "<a href=\"https://colab.research.google.com/github/jzzy-jeff/github-slideshow/blob/master/FlappyBird.ipynb\" target=\"_parent\"><img src=\"https://colab.research.google.com/assets/colab-badge.svg\" alt=\"Open In Colab\"/></a>"
      ]
    },
    {
      "cell_type": "code",
      "metadata": {
        "colab": {
          "base_uri": "https://localhost:8080/"
        },
        "id": "6yRt4IhaXOtp",
        "outputId": "25a313db-4d3f-4724-c11f-d1c5bb57cb15"
      },
      "source": [
        "pip install pygame"
      ],
      "execution_count": 8,
      "outputs": [
        {
          "output_type": "stream",
          "text": [
            "Requirement already satisfied: pygame in /usr/local/lib/python3.6/dist-packages (2.0.1)\n"
          ],
          "name": "stdout"
        }
      ]
    },
    {
      "cell_type": "code",
      "metadata": {
        "colab": {
          "base_uri": "https://localhost:8080/"
        },
        "id": "qgeXwtmIXb4T",
        "outputId": "4eac6438-56e9-4b6a-fff3-2f86e5c7993c"
      },
      "source": [
        "pip install neat-python\r\n"
      ],
      "execution_count": 9,
      "outputs": [
        {
          "output_type": "stream",
          "text": [
            "Requirement already satisfied: neat-python in /usr/local/lib/python3.6/dist-packages (0.92)\n"
          ],
          "name": "stdout"
        }
      ]
    },
    {
      "cell_type": "code",
      "metadata": {
        "id": "Pby7M8fAXhuI"
      },
      "source": [
        "import pygame\r\n",
        "import neat\r\n",
        "import time\r\n",
        "import os\r\n",
        "import random"
      ],
      "execution_count": 10,
      "outputs": []
    },
    {
      "cell_type": "code",
      "metadata": {
        "colab": {
          "base_uri": "https://localhost:8080/",
          "height": 131
        },
        "id": "SXqAKqJyYguQ",
        "outputId": "0ab970fe-0c8e-4b33-c9c4-4983b9ab987a"
      },
      "source": [
        "#Window and object images\r\n",
        "WIN_WIDTH = 600\r\n",
        "WIN_HEIGHT = 800\r\n",
        "\r\n",
        "BIRD_IMGS = [pygame.transorm.scale2x(pygame.image.load(os.path.join(\"imgs\", \"bird1.png\"))), [pygame.transorm.scale2x(pygame.image.load(os.path.join(\"imgs\", \"bird2.png\"))), [pygame.transorm.scale2x(pygame.image.load(os.path.join(\"imgs\", \"bird3.png\")))]\r\n",
        "PIPE_IMG = pygame.transform.scale2x(pygame.image.load(os.path.join(\"imgs\", \"pipe.png\")))\r\n",
        "BASE_IMG = pygame.transform.scale2x(pygame.image.load(os.path.join(\"imgs\", \"base.png\")))\r\n",
        "BG_IMG = pygame.transform.scale2x(pygame.image.load(os.path.join(\"imgs\", \"bg.png\")))\r\n",
        "\r\n",
        "\r\n",
        " "
      ],
      "execution_count": 17,
      "outputs": [
        {
          "output_type": "error",
          "ename": "SyntaxError",
          "evalue": "ignored",
          "traceback": [
            "\u001b[0;36m  File \u001b[0;32m\"<ipython-input-17-97605243c5ac>\"\u001b[0;36m, line \u001b[0;32m7\u001b[0m\n\u001b[0;31m    BASE_IMG = pygame.transorm.scale2x(pygame.image.load(os.path.join(\"imgs\", \"base.png\")) )\u001b[0m\n\u001b[0m           ^\u001b[0m\n\u001b[0;31mSyntaxError\u001b[0m\u001b[0;31m:\u001b[0m invalid syntax\n"
          ]
        }
      ]
    },
    {
      "cell_type": "code",
      "metadata": {
        "colab": {
          "base_uri": "https://localhost:8080/",
          "height": 131
        },
        "id": "c9l2ATzkewmS",
        "outputId": "2de19d5f-efd6-43b4-a465-d14006c32bf5"
      },
      "source": [
        "#Object Classes\r\n",
        "class Bird:\r\n",
        "   IMGS = BIRD_IMGS\r\n",
        "   MAX_ROTATION = 25\r\n",
        "   ROT_VEL = 20\r\n",
        "   ANIMATION_TIME = 5\r\n",
        "\r\n",
        "   def __init__(self, x, y):\r\n",
        "     self.x = x\r\n",
        "     self.y = y\r\n",
        "     self.tilt = 0\r\n",
        "     self.tick_count = 0\r\n",
        "     self.vel = 0\r\n",
        "     self,height = self.y\r\n",
        "     self.img_count = 0\r\n",
        "     self.img = self.IMGS[0]\r\n",
        "\r\n",
        "   def jump(self):\r\n",
        "     self.vel = -10.5\r\n",
        "     self.tick_count = 0\r\n",
        "     self.height = self.y\r\n",
        "\r\n",
        "   def move(self):\r\n",
        "     self.tick_count += 1\r\n",
        "     \r\n",
        "     d = self.vel*self.tick_count + 1.5*self.tick_count**2\r\n",
        "     \r\n",
        "     if d >= 16:\r\n",
        "       d = 16\r\n",
        "\r\n",
        "     if d < 0:\r\n",
        "       d-=2.4\r\n",
        "\r\n",
        "     self.y = self.y + de\r\n",
        "\r\n",
        "     if d < 0 or self.y < self.height + 50:\r\n",
        "       if self.tilt < self.MAX_ROTATION:\r\n",
        "          self.tilt = MAX_ROTATION\r\n",
        "     else:\r\n",
        "       if self.tilt> -90:\r\n",
        "         self.tilt -= self.ROT_VEL\r\n",
        "\r\n",
        "    def draw(self, win):\r\n",
        "      self.img_count +=1\r\n",
        "\r\n",
        "      if self.img_count < self.ANIMATION_TIME:\r\n",
        "        self.img = self.IMGS[0]\r\n",
        "      elif self.img_count < self.ANIMATION_TIME*2:\r\n",
        "       self.img = self.IMGS[1]\r\n",
        "      elif self.img_count < self.ANIMATION_TIME*3:\r\n",
        "       self.img = self.IMGS[2]\r\n",
        "      elif self.img_count < self.ANIMATION_TIME*4:\r\n",
        "       self.img = self.IMGS[1]\r\n",
        "      elif self.img_count < self.ANIMATION_TIME*4+1:\r\n",
        "       self.img = self.IMGS[0]\r\n",
        "       self.img_count = 0\r\n",
        "\r\n",
        "      if self.tilt <= -80:\r\n",
        "        self.img = self.IMGS[1]\r\n",
        "        self.img_count = self.ANIMATION_TIME*2\r\n",
        "\r\n",
        "     rotated_image = pygame.transorm.rotate(self.img, self.tilt)\r\n",
        "     new_rect = rotated_image.get_rect(center=self.img.get_rect(topleft = (self.x, self.y)).center)\r\n",
        "     win.blit(rotated_image, new_rect.topleft)\r\n",
        "\r\n",
        "  def get_mask(self):\r\n",
        "    return pygame.mask.from_surface(self.img)\r\n",
        "    \r\n",
        "def draw_window(win, bird):\r\n",
        "  win.blit(BG_IMG, (0,0))\r\n",
        "  bird.draw(win)\r\n",
        "  pygame.display.update()\r\n",
        "\r\n",
        "def main():\r\n",
        "  bird = Bird(200,200)\r\n",
        "  win = pygame.display.set_mode((WIN_WIDTH, WIN_HEIGHT))\r\n",
        "  run = True\r\n",
        "  while run:\r\n",
        "    for event in pygame.event.get():\r\n",
        "      if event.type == pygame.QUIT:\r\n",
        "        run == False\r\n",
        "\r\n",
        "    draw_window(win, bird)\r\n",
        "\r\n",
        "  pygame.quit()\r\n",
        "  quit()\r\n",
        "\r\n",
        "  main()"
      ],
      "execution_count": 18,
      "outputs": [
        {
          "output_type": "error",
          "ename": "SyntaxError",
          "evalue": "ignored",
          "traceback": [
            "\u001b[0;36m  File \u001b[0;32m\"<ipython-input-18-8b57f928c7d6>\"\u001b[0;36m, line \u001b[0;32m6\u001b[0m\n\u001b[0;31m    PIPE_IMG = pygame.transform.scale2x(pygame.image.load(os.path.join(\"imgs\", \"pipe.png\")))\u001b[0m\n\u001b[0m           ^\u001b[0m\n\u001b[0;31mSyntaxError\u001b[0m\u001b[0;31m:\u001b[0m invalid syntax\n"
          ]
        }
      ]
    }
  ]
}